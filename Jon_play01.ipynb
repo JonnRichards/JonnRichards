{
  "nbformat": 4,
  "nbformat_minor": 0,
  "metadata": {
    "colab": {
      "name": "Jon_play01.ipynb",
      "provenance": [],
      "collapsed_sections": [],
      "authorship_tag": "ABX9TyN60qfi/8YkYVC7SUXrmVwq",
      "include_colab_link": true
    },
    "kernelspec": {
      "name": "python3",
      "display_name": "Python 3"
    },
    "language_info": {
      "name": "python"
    }
  },
  "cells": [
    {
      "cell_type": "markdown",
      "metadata": {
        "id": "view-in-github",
        "colab_type": "text"
      },
      "source": [
        "<a href=\"https://colab.research.google.com/github/JonnRichards/JonnRichards/blob/main/Jon_play01.ipynb\" target=\"_parent\"><img src=\"https://colab.research.google.com/assets/colab-badge.svg\" alt=\"Open In Colab\"/></a>"
      ]
    },
    {
      "cell_type": "code",
      "execution_count": 10,
      "metadata": {
        "colab": {
          "base_uri": "https://localhost:8080/"
        },
        "id": "qVfB3yAUzzLr",
        "outputId": "7d0be7fb-a979-4b32-c498-ded9f8621bee"
      },
      "outputs": [
        {
          "output_type": "stream",
          "name": "stdout",
          "text": [
            "['22', '55', '433', '1', '2', '3', '2', '3', '4', '22', '55', '433', '1', '2', '3', '2', '3', '4', '22', '55', '433']\n"
          ]
        }
      ],
      "source": [
        "list1=['1-2-3','2-3-4','22-55-433']\n",
        "\n",
        "for i in  list1:\n",
        "\n",
        "  mylist += [v.strip() for v in i.split('-')]\n",
        "print(mylist)"
      ]
    },
    {
      "cell_type": "code",
      "source": [
        "list2=['12-23-34', '34-00-00','33-34-02']\n",
        "count =0\n",
        "count2=0\n",
        "for i in list2:\n",
        "  a,b,c=(i.split('-'))\n",
        "  a=int(a)\n",
        "  b=int(b)\n",
        "  c=int(c)\n",
        "  \n",
        "  print (a+b+c)\n",
        "  if a+b+c==69:\n",
        "    count= count +1\n",
        "    \n",
        "  if a or b or c ==34:\n",
        "    print (i)\n",
        "    count2=count2+1\n",
        "print (count)\n",
        "print (count2)\n"
      ],
      "metadata": {
        "colab": {
          "base_uri": "https://localhost:8080/"
        },
        "id": "thsZHFcQ0vY3",
        "outputId": "b8d68b33-75b4-4bfc-f265-0551cdddc727"
      },
      "execution_count": 38,
      "outputs": [
        {
          "output_type": "stream",
          "name": "stdout",
          "text": [
            "69\n",
            "12-23-34\n",
            "34\n",
            "34-00-00\n",
            "69\n",
            "33-34-02\n",
            "2\n",
            "3\n"
          ]
        }
      ]
    }
  ]
}